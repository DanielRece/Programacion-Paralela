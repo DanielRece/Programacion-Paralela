
Trabajo Spark

https://opendata.emtmadrid.es/Datos-estaticos/Datos-generales-(1)

Los datos que usamos son los de verano 2017 e invierno 2017-2018, y luego los de principios del 2020.

import matplotlib.pyplot as plt
from pyspark import SparkContext
sc = SparkContext.getOrCreate()
import json

VALORES = ['user_day_code','user_type','ageRange','idplug_station',
         'idunplug_station','unplug_hourTime','travel_time']

def adaptar(dicc):
        """
        Desempaqueta las fechas en forma unplug_hourTime: {$date: string}.
        """
    
        if isinstance(dicc['unplug_hourTime'], dict):
            dicc['unplug_hourTime'] = dicc['unplug_hourTime']['$date']
            
        return dicc


def leer(lista):
    """
    Recibe una lista de archivos json, se queda con los datos relevantes, y ajusta el formato de las fechas.
    Devuelve un unico rdd con todos los datos.
    """
    
    if not isinstance(lista, list):
        lista = [lista]
        
    sc = SparkContext.getOrCreate()
    aux = lambda x: {a:x[a] for a in VALORES}
    
    total = sc.textFile(lista[0]).map(json.loads).map(aux)
    
    for archivo in lista[1:]:
        dat = sc.textFile(archivo).map(json.loads).map(aux)
        total = total.union(dat)
    
    return total.map(adaptar)

import re
import datetime
PATTERN = re.compile(r'[+][0-9]+$')

def tiempo(content):
    """
    Una funcion para transformar string a objeto datetime.
    Las fechas tienen dos formatos distintos y se tratan de la misma forma
    con una expresion regular.
    """
    
    match = PATTERN.search(content)
    if match:
        formato = '%Y-%m-%dT%H:%M:%S.%f%z'  
    else:
        formato = '%Y-%m-%dT%H:%M:%SZ'
        
    return datetime.datetime.strptime(content, formato)

a = leer('202001_movements.json').sample(False, 0.2)
a. take(10)

[{'user_day_code': 'f77e4af707dfc3753aea3a3964923f256ef9c0be1413998c1f084b6c8ae82a2f',
  'user_type': 1,
  'ageRange': 4,
  'idplug_station': 82,
  'idunplug_station': 129,
  'unplug_hourTime': '2020-01-01T00:00:00Z',
  'travel_time': 473},
 {'user_day_code': 'd83c9c0652b085671a7201039d35b1e816805fafad69ea5f1da08f338189d6ec',
  'user_type': 1,
  'ageRange': 5,
  'idplug_station': 128,
  'idunplug_station': 54,
  'unplug_hourTime': '2020-01-01T00:00:00Z',
  'travel_time': 234},
 {'user_day_code': '6ef1d4cd006e85dbfc3696bda068575bcd8c6c09e93d7b1fd74cc4e67153dd42',
  'user_type': 1,
  'ageRange': 0,
  'idplug_station': 194,
  'idunplug_station': 171,
  'unplug_hourTime': '2020-01-01T00:00:00Z',
  'travel_time': 182},
 {'user_day_code': 'd4cd100c73bf667702a90a14b41faa6023af146e3299fc9a1aa30206c5ef5cae',
  'user_type': 1,
  'ageRange': 5,
  'idplug_station': 127,
  'idunplug_station': 84,
  'unplug_hourTime': '2020-01-01T00:00:00Z',
  'travel_time': 287},
 {'user_day_code': '0aeb48aed145316c5aa233761b13539751ef63cd36524b66a777e678df4923d5',
  'user_type': 1,
  'ageRange': 4,
  'idplug_station': 218,
  'idunplug_station': 209,
  'unplug_hourTime': '2020-01-01T00:00:00Z',
  'travel_time': 509},
 {'user_day_code': '0001ee685691277134f4762c10b4702dc77dcaab87dce06584931a3a87b11bc3',
  'user_type': 1,
  'ageRange': 4,
  'idplug_station': 14,
  'idunplug_station': 161,
  'unplug_hourTime': '2020-01-01T00:00:00Z',
  'travel_time': 471},
 {'user_day_code': '4516974e827f5ee63659cb417f59029fbe19e79daf892754dcb1b9f4d63a3f3e',
  'user_type': 1,
  'ageRange': 0,
  'idplug_station': 21,
  'idunplug_station': 55,
  'unplug_hourTime': '2020-01-01T00:00:00Z',
  'travel_time': 465},
 {'user_day_code': '8f52879c3590167d08054ab973ab1c7576e4c696d3d2df46ec7147733f1ea8fc',
  'user_type': 1,
  'ageRange': 0,
  'idplug_station': 59,
  'idunplug_station': 49,
  'unplug_hourTime': '2020-01-01T00:00:00Z',
  'travel_time': 686},
 {'user_day_code': '116d4a9c24b6af85b49296cb75a7df3918961877ba5898f0c4fd7fb383a68177',
  'user_type': 1,
  'ageRange': 5,
  'idplug_station': 219,
  'idunplug_station': 129,
  'unplug_hourTime': '2020-01-01T00:00:00Z',
  'travel_time': 911},
 {'user_day_code': '3af66337d70518c824b2e2ba67d78f2d9bc1b5611ddb1b067989912c86c85f89',
  'user_type': 1,
  'ageRange': 0,
  'idplug_station': 202,
  'idunplug_station': 81,
  'unplug_hourTime': '2020-01-01T00:00:00Z',
  'travel_time': 718}]

# Usuarios que mas viajes han realizado en un dia.
# Se usa el codigo de usuario como clave, se agrupa por clave y se ordena el rdd por el
# numero de viajes que ha realizado cada usuario.
a = leer('202001_movements.json')
rdd = a.map(lambda x: (x['user_day_code'],x)).groupByKey().mapValues(list)
numero = rdd.mapValues(len).sortBy(keyfunc=lambda x: x[1],ascending=False)
numero.take(5)

[('034bf7065e3ef64c4d4455c45fb435e1495eec6a143a6ef7d99829164c555b94', 131),
 ('11770e48c981871a3a8bcabaa08ae499449a6eb6178cb6beb72b4713b3d781c1', 124),
 ('85b2d84388d0d4a2bc54321b58024321da67a5d217a6e36b9310a04f7b7f7ac9', 120),
 ('eb1481e316063b5fa0034918025b8753575d6b71f388ca2fc506874c42789097', 118),
 ('ce6e9d365f5cedc35f8774e2ca40546a6b3bf7c5fb07c68eaaa7a2e7e04f8385', 106)]

# Usuarios cuyo ultimo viaje acaba en la misma estacion donde empezo.
# Estacion salida: [0]["idunplug_station"], estacion llegada [-1]["idplug_station"].
rdd = a.map(lambda x: (x['user_day_code'],x)).groupByKey().mapValues(list)
ida = rdd.filter(lambda x: x[1][0]['idunplug_station']==x[1][-1]['idplug_station'])
100*ida.count()/rdd.count()

21.729120713050076

# Los viajes se enlazan, forman "camino". Se considera que cada viaje sucesivo empieza
# en la estacion donde acabo el viaje previo.
def condicion(lista):
    
    b = True
    j = 1
    while j < len(lista):
        b = b and lista[j-1]['idunplug_station'] == lista[j]['idplug_station']
        j += 1
    return b    
    
temp = rdd.filter(lambda x: len(x[1])>2).filter(lambda x: condicion(x[1]))
temp.take(5)

[('f2ad1dfca20ac91815abe9d1219eb3fb2cd87e087c408caedfcb542ff2018a7c',
  [{'user_day_code': 'f2ad1dfca20ac91815abe9d1219eb3fb2cd87e087c408caedfcb542ff2018a7c',
    'user_type': 1,
    'ageRange': 0,
    'idplug_station': 176,
    'idunplug_station': 192,
    'unplug_hourTime': '2020-01-01T00:00:00Z',
    'travel_time': 863},
   {'user_day_code': 'f2ad1dfca20ac91815abe9d1219eb3fb2cd87e087c408caedfcb542ff2018a7c',
    'user_type': 1,
    'ageRange': 0,
    'idplug_station': 192,
    'idunplug_station': 176,
    'unplug_hourTime': '2020-01-01T13:00:00Z',
    'travel_time': 917},
   {'user_day_code': 'f2ad1dfca20ac91815abe9d1219eb3fb2cd87e087c408caedfcb542ff2018a7c',
    'user_type': 1,
    'ageRange': 0,
    'idplug_station': 176,
    'idunplug_station': 192,
    'unplug_hourTime': '2020-01-01T16:00:00Z',
    'travel_time': 779}]),
 ('0e8c93d0f3979d8e1ebe921ff21a4c3224f810a619a63a218664e3c38f4d1b89',
  [{'user_day_code': '0e8c93d0f3979d8e1ebe921ff21a4c3224f810a619a63a218664e3c38f4d1b89',
    'user_type': 1,
    'ageRange': 0,
    'idplug_station': 175,
    'idunplug_station': 56,
    'unplug_hourTime': '2020-01-01T00:00:00Z',
    'travel_time': 414},
   {'user_day_code': '0e8c93d0f3979d8e1ebe921ff21a4c3224f810a619a63a218664e3c38f4d1b89',
    'user_type': 1,
    'ageRange': 0,
    'idplug_station': 56,
    'idunplug_station': 175,
    'unplug_hourTime': '2020-01-01T09:00:00Z',
    'travel_time': 389},
   {'user_day_code': '0e8c93d0f3979d8e1ebe921ff21a4c3224f810a619a63a218664e3c38f4d1b89',
    'user_type': 1,
    'ageRange': 0,
    'idplug_station': 175,
    'idunplug_station': 56,
    'unplug_hourTime': '2020-01-01T18:00:00Z',
    'travel_time': 335}]),
 ('9bb43a7be845927a0076fad5a9ef679d9c0751096bbbb8b9a7a4e366824ade6a',
  [{'user_day_code': '9bb43a7be845927a0076fad5a9ef679d9c0751096bbbb8b9a7a4e366824ade6a',
    'user_type': 1,
    'ageRange': 5,
    'idplug_station': 36,
    'idunplug_station': 125,
    'unplug_hourTime': '2020-01-01T09:00:00Z',
    'travel_time': 807},
   {'user_day_code': '9bb43a7be845927a0076fad5a9ef679d9c0751096bbbb8b9a7a4e366824ade6a',
    'user_type': 1,
    'ageRange': 5,
    'idplug_station': 125,
    'idunplug_station': 10,
    'unplug_hourTime': '2020-01-01T15:00:00Z',
    'travel_time': 623},
   {'user_day_code': '9bb43a7be845927a0076fad5a9ef679d9c0751096bbbb8b9a7a4e366824ade6a',
    'user_type': 1,
    'ageRange': 5,
    'idplug_station': 10,
    'idunplug_station': 125,
    'unplug_hourTime': '2020-01-01T17:00:00Z',
    'travel_time': 761},
   {'user_day_code': '9bb43a7be845927a0076fad5a9ef679d9c0751096bbbb8b9a7a4e366824ade6a',
    'user_type': 1,
    'ageRange': 5,
    'idplug_station': 125,
    'idunplug_station': 10,
    'unplug_hourTime': '2020-01-01T23:00:00Z',
    'travel_time': 583}]),
 ('e5188c020cd6e7adeb9b619feb37131c074c686c2c1b1ec4db41cdddac493d8d',
  [{'user_day_code': 'e5188c020cd6e7adeb9b619feb37131c074c686c2c1b1ec4db41cdddac493d8d',
    'user_type': 1,
    'ageRange': 0,
    'idplug_station': 10,
    'idunplug_station': 134,
    'unplug_hourTime': '2020-01-01T11:00:00Z',
    'travel_time': 515},
   {'user_day_code': 'e5188c020cd6e7adeb9b619feb37131c074c686c2c1b1ec4db41cdddac493d8d',
    'user_type': 1,
    'ageRange': 0,
    'idplug_station': 134,
    'idunplug_station': 10,
    'unplug_hourTime': '2020-01-01T16:00:00Z',
    'travel_time': 449},
   {'user_day_code': 'e5188c020cd6e7adeb9b619feb37131c074c686c2c1b1ec4db41cdddac493d8d',
    'user_type': 1,
    'ageRange': 0,
    'idplug_station': 10,
    'idunplug_station': 134,
    'unplug_hourTime': '2020-01-01T18:00:00Z',
    'travel_time': 386}]),
 ('54baa26ea6ce2cfbda931c5a0319d155b3d4299242231c7fd56f52b76ab5792d',
  [{'user_day_code': '54baa26ea6ce2cfbda931c5a0319d155b3d4299242231c7fd56f52b76ab5792d',
    'user_type': 1,
    'ageRange': 0,
    'idplug_station': 52,
    'idunplug_station': 57,
    'unplug_hourTime': '2020-01-01T13:00:00Z',
    'travel_time': 82},
   {'user_day_code': '54baa26ea6ce2cfbda931c5a0319d155b3d4299242231c7fd56f52b76ab5792d',
    'user_type': 1,
    'ageRange': 0,
    'idplug_station': 57,
    'idunplug_station': 52,
    'unplug_hourTime': '2020-01-01T17:00:00Z',
    'travel_time': 181},
   {'user_day_code': '54baa26ea6ce2cfbda931c5a0319d155b3d4299242231c7fd56f52b76ab5792d',
    'user_type': 1,
    'ageRange': 0,
    'idplug_station': 52,
    'idunplug_station': 57,
    'unplug_hourTime': '2020-01-01T17:00:00Z',
    'travel_time': 92}])]

# Por tipo de usuario.
rdd = a.map(lambda x: (x['user_type'],x)).groupByKey().mapValues(len)
rdd.collect()

[(3, 22693), (1, 249537), (2, 645)]

# Filtrado por duracion del viaje, se consideran los viajes de al menos 2 minutos.
rdd = a.map(lambda x: x['travel_time'])
print('Conteo:',rdd.filter(lambda x: x>120).count())
print('Media:',rdd.filter(lambda x: x>120).mean())

Conteo: 266833
Media: 1146.9137587929517

# Estaciones con mayor afluencia (origen + destino).
rdd = a.flatMap(lambda x: [x['idunplug_station'],x['idplug_station']])
b=rdd.countByValue()#.sortBy(keyfunc=id,ascending=False)
dict(sorted(b.items(), key=lambda item: item[1],reverse=True))

{175: 7481,
 43: 7422,
 57: 6132,
 83: 6125,
 163: 5747,
 49: 5329,
 90: 5268,
 168: 4936,
 13: 4693,
 45: 4689,
 41: 4688,
 169: 4666,
 9: 4601,
 149: 4587,
 58: 4536,
 129: 4534,
 157: 4431,
 208: 4380,
 135: 4367,
 19: 4317,
 79: 4256,
 132: 4226,
 161: 4196,
 6: 4170,
 59: 4114,
 64: 4040,
 164: 3998,
 162: 3946,
 84: 3941,
 53: 3927,
 38: 3920,
 42: 3911,
 78: 3902,
 108: 3892,
 95: 3831,
 160: 3756,
 75: 3703,
 145: 3695,
 52: 3666,
 56: 3590,
 189: 3506,
 26: 3494,
 30: 3469,
 62: 3463,
 46: 3446,
 128: 3443,
 74: 3440,
 91: 3353,
 48: 3337,
 113: 3290,
 31: 3273,
 131: 3233,
 65: 3226,
 103: 3220,
 77: 3194,
 17: 3173,
 187: 3150,
 14: 3093,
 133: 3062,
 204: 3052,
 170: 3043,
 76: 3042,
 50: 2995,
 183: 2961,
 55: 2924,
 126: 2922,
 82: 2899,
 81: 2869,
 115: 2866,
 37: 2840,
 33: 2822,
 213: 2821,
 80: 2761,
 181: 2757,
 21: 2707,
 154: 2704,
 130: 2702,
 136: 2690,
 139: 2680,
 73: 2680,
 99: 2673,
 71: 2630,
 8: 2614,
 177: 2613,
 118: 2601,
 172: 2591,
 3: 2586,
 134: 2584,
 51: 2520,
 69: 2516,
 89: 2491,
 67: 2479,
 86: 2474,
 1: 2469,
 63: 2462,
 155: 2462,
 44: 2450,
 185: 2449,
 123: 2445,
 106: 2419,
 153: 2418,
 110: 2416,
 7: 2401,
 179: 2394,
 121: 2393,
 202: 2373,
 54: 2373,
 207: 2372,
 166: 2366,
 25: 2347,
 143: 2345,
 210: 2330,
 127: 2314,
 12: 2308,
 171: 2287,
 66: 2281,
 47: 2272,
 125: 2262,
 102: 2250,
 92: 2248,
 96: 2216,
 142: 2206,
 109: 2203,
 219: 2179,
 10: 2170,
 114: 2169,
 4: 2164,
 18: 2162,
 20: 2147,
 178: 2140,
 156: 2128,
 190: 2122,
 27: 2091,
 200: 2073,
 94: 2070,
 182: 2053,
 198: 2049,
 212: 2012,
 180: 1977,
 199: 1946,
 85: 1932,
 206: 1931,
 72: 1923,
 87: 1913,
 167: 1908,
 93: 1888,
 176: 1883,
 11: 1880,
 112: 1874,
 201: 1855,
 211: 1854,
 147: 1842,
 148: 1813,
 137: 1805,
 5: 1798,
 158: 1794,
 101: 1784,
 184: 1716,
 124: 1705,
 192: 1697,
 15: 1655,
 140: 1642,
 152: 1637,
 116: 1626,
 98: 1601,
 197: 1574,
 97: 1558,
 122: 1550,
 141: 1547,
 194: 1541,
 40: 1535,
 107: 1534,
 117: 1531,
 100: 1510,
 39: 1495,
 138: 1480,
 159: 1469,
 165: 1464,
 218: 1459,
 104: 1432,
 111: 1406,
 193: 1396,
 36: 1353,
 214: 1341,
 174: 1339,
 105: 1326,
 209: 1324,
 196: 1321,
 151: 1312,
 61: 1297,
 35: 1286,
 150: 1274,
 216: 1268,
 60: 1267,
 195: 1243,
 205: 1210,
 88: 1204,
 146: 1188,
 217: 1165,
 203: 1163,
 120: 1067,
 215: 1045,
 188: 994,
 119: 967,
 34: 916,
 144: 905,
 191: 904,
 173: 860,
 29: 671,
 28: 337}

# Estaciones por numero de llegadas.
rdd = a.map(lambda x: x['idplug_station'])
b=rdd.countByValue()#.sortBy(keyfunc=id,ascending=False)
dict(sorted(b.items(), key=lambda item: item[1],reverse=True))

{43: 3748,
 175: 3741,
 83: 3068,
 57: 3057,
 163: 2890,
 49: 2671,
 90: 2638,
 168: 2492,
 13: 2362,
 45: 2360,
 169: 2357,
 41: 2325,
 149: 2302,
 9: 2286,
 129: 2269,
 58: 2267,
 157: 2228,
 135: 2211,
 208: 2195,
 19: 2161,
 132: 2143,
 79: 2139,
 161: 2117,
 6: 2108,
 59: 2059,
 64: 2047,
 164: 1996,
 84: 1985,
 53: 1975,
 38: 1964,
 78: 1961,
 42: 1954,
 162: 1949,
 108: 1945,
 95: 1919,
 160: 1875,
 52: 1846,
 145: 1844,
 75: 1834,
 56: 1796,
 189: 1753,
 26: 1743,
 46: 1742,
 62: 1737,
 30: 1733,
 128: 1723,
 74: 1715,
 48: 1680,
 113: 1658,
 91: 1642,
 31: 1637,
 131: 1625,
 65: 1619,
 103: 1608,
 17: 1598,
 187: 1579,
 77: 1568,
 14: 1560,
 76: 1527,
 133: 1527,
 204: 1527,
 170: 1512,
 50: 1495,
 183: 1480,
 55: 1473,
 82: 1464,
 126: 1449,
 81: 1443,
 115: 1429,
 33: 1429,
 37: 1427,
 213: 1410,
 181: 1385,
 80: 1377,
 21: 1352,
 130: 1349,
 73: 1345,
 99: 1330,
 154: 1327,
 139: 1327,
 136: 1325,
 71: 1322,
 118: 1311,
 8: 1305,
 3: 1305,
 177: 1304,
 134: 1292,
 172: 1281,
 51: 1253,
 69: 1253,
 89: 1245,
 1: 1243,
 63: 1240,
 67: 1237,
 44: 1236,
 155: 1235,
 86: 1230,
 123: 1223,
 106: 1220,
 185: 1219,
 7: 1209,
 110: 1208,
 121: 1207,
 54: 1200,
 207: 1196,
 153: 1193,
 179: 1193,
 25: 1191,
 166: 1177,
 210: 1171,
 202: 1169,
 12: 1167,
 143: 1150,
 127: 1142,
 47: 1142,
 171: 1141,
 66: 1129,
 125: 1126,
 102: 1123,
 92: 1115,
 96: 1113,
 219: 1105,
 18: 1095,
 10: 1094,
 142: 1087,
 4: 1087,
 114: 1085,
 20: 1080,
 109: 1078,
 178: 1074,
 156: 1051,
 190: 1050,
 94: 1041,
 27: 1040,
 200: 1032,
 182: 1022,
 198: 1018,
 212: 991,
 199: 980,
 180: 979,
 72: 969,
 85: 962,
 87: 955,
 206: 951,
 176: 946,
 11: 939,
 167: 931,
 112: 929,
 211: 928,
 201: 926,
 93: 925,
 147: 914,
 5: 913,
 137: 898,
 148: 896,
 101: 896,
 158: 867,
 184: 863,
 124: 849,
 192: 843,
 15: 837,
 152: 816,
 116: 808,
 197: 798,
 98: 796,
 122: 780,
 97: 778,
 140: 777,
 194: 774,
 107: 769,
 40: 767,
 117: 765,
 141: 758,
 39: 752,
 100: 748,
 138: 744,
 218: 740,
 165: 733,
 104: 723,
 159: 720,
 111: 691,
 193: 689,
 36: 677,
 174: 664,
 151: 663,
 196: 662,
 209: 660,
 105: 660,
 214: 657,
 35: 656,
 61: 645,
 60: 637,
 150: 631,
 195: 623,
 216: 622,
 146: 604,
 205: 604,
 88: 579,
 217: 578,
 203: 565,
 120: 531,
 215: 523,
 188: 492,
 119: 479,
 191: 458,
 34: 456,
 144: 451,
 173: 415,
 29: 332,
 28: 170}

# Comparacion entre el uso en verano de 2017 e invierno (2017-2018). La conclusión es que
# en verano hay muchos usuarios de vacaciones, y hace demasiado calor como para usar la bicicleta.
datos=leer(['201706_Usage_Bicimad.json','201707_Usage_Bicimad.json','201708_Usage_Bicimad.json','201709_Usage_Bicimad.json','201711_Usage_Bicimad.json','201712_Usage_Bicimad.json','201801_Usage_Bicimad.json','201802_Usage_Bicimad.json'])
datos=datos.map(lambda x: tiempo(x['unplug_hourTime']))
datos_verano = datos.filter(lambda x: 9>=x.month>=6)
datos_invierno = datos.filter(lambda x: 11>=x.month or x.month<=2)
a=datos_verano.count()
b=datos_invierno.count()
print(a,b,a/b)

1444953 2286091 0.6320627656554354

# Graficos que muestran el uso por tipo de usuario y mes.
l_rdd=['201706_Usage_Bicimad.json','201707_Usage_Bicimad.json','201708_Usage_Bicimad.json','201709_Usage_Bicimad.json','201711_Usage_Bicimad.json','201712_Usage_Bicimad.json','201801_Usage_Bicimad.json','201802_Usage_Bicimad.json']
plt.rcParams["figure.figsize"] = (12,12)
fig = plt.figure()
j = 1
for t in l_rdd:
    datos = leer(t).map(lambda x: x['user_type']).countByValue()
    st = f'axfig_{j}'
    st = fig.add_subplot(3,4,j)
    st.title.set_text(t)
    plt.bar(datos.keys(),datos.values())
    j += 1

# Graficos que muestran el uso por franja de edad y mes.
plt.rcParams["figure.figsize"] = (12,12)
fig = plt.figure()
j = 1
for t in l_rdd:
    datos = leer(t).map(lambda x: x['ageRange']).countByValue()
    st = f'axfig_{j}'
    st = fig.add_subplot(3,4,j)
    st.title.set_text(t)
    plt.bar(datos.keys(),datos.values())  
    j += 1

 


